{
 "cells": [
  {
   "cell_type": "code",
   "execution_count": 1,
   "id": "5d859f5d",
   "metadata": {},
   "outputs": [],
   "source": [
    "with open(f\"input.txt\", 'r') as file:\n",
    "    input_list = file.read().split('\\n')"
   ]
  },
  {
   "cell_type": "markdown",
   "id": "405401b6",
   "metadata": {},
   "source": [
    "# Part 1"
   ]
  },
  {
   "cell_type": "code",
   "execution_count": 2,
   "id": "ceacdde5",
   "metadata": {},
   "outputs": [],
   "source": [
    "from collections import Counter"
   ]
  },
  {
   "cell_type": "code",
   "execution_count": 3,
   "id": "fac58440",
   "metadata": {},
   "outputs": [],
   "source": [
    "gamma, epsilon = [], []\n",
    "\n",
    "for binary in zip(*input_list):\n",
    "    counts = Counter(binary)\n",
    "    most_common = int(counts.most_common(1)[0][0])\n",
    "    least_common = 1 - most_common\n",
    "    \n",
    "    gamma.append(str(most_common))\n",
    "    epsilon.append(str(least_common))"
   ]
  },
  {
   "cell_type": "code",
   "execution_count": 4,
   "id": "ddff1bf5",
   "metadata": {},
   "outputs": [
    {
     "name": "stdout",
     "output_type": "stream",
     "text": [
      "693486\n"
     ]
    }
   ],
   "source": [
    "gamma = int(''.join(gamma), 2)\n",
    "epsilon = int(''.join(epsilon), 2)\n",
    "\n",
    "print(gamma*epsilon)"
   ]
  },
  {
   "cell_type": "markdown",
   "id": "db59996d",
   "metadata": {},
   "source": [
    "# Part 2"
   ]
  },
  {
   "cell_type": "code",
   "execution_count": 5,
   "id": "c8d86307",
   "metadata": {},
   "outputs": [],
   "source": [
    "import pandas as pd"
   ]
  },
  {
   "cell_type": "code",
   "execution_count": 7,
   "id": "21a5ea90",
   "metadata": {},
   "outputs": [],
   "source": [
    "df_original = pd.DataFrame(zip(*input_list)).transpose()\n",
    "oxygen, co2 = [], []\n",
    "\n",
    "def most_least_common(df, oxygen: bool):\n",
    "    result = []\n",
    "    \n",
    "    for col in df.columns:\n",
    "        counts = df[col].value_counts()\n",
    "\n",
    "        try:\n",
    "            most_common = counts.idxmax()\n",
    "        except ValueError:\n",
    "            pass\n",
    "            \n",
    "        try:\n",
    "            if counts[0] == counts[1] and oxygen:\n",
    "                most_common = '1'\n",
    "        except IndexError:\n",
    "            pass\n",
    "        \n",
    "        if oxygen:\n",
    "            df = df[df[col] == str(most_common)]\n",
    "            result.append(most_common)\n",
    "        else:\n",
    "            least_common = 1 - int(most_common)\n",
    "            df = df[df[col] == str(least_common)]\n",
    "            result.append(str(least_common))\n",
    "        \n",
    "    return result\n",
    "\n",
    "oxygen = most_least_common(df_original.copy(), True)\n",
    "co2 = most_least_common(df_original.copy(), False)"
   ]
  },
  {
   "cell_type": "code",
   "execution_count": 8,
   "id": "91f02939",
   "metadata": {
    "scrolled": false
   },
   "outputs": [
    {
     "name": "stdout",
     "output_type": "stream",
     "text": [
      "3402651\n"
     ]
    }
   ],
   "source": [
    "oxygen = int(''.join(oxygen), 2)\n",
    "co2 = int(''.join(co2), 2)\n",
    "\n",
    "print(oxygen* co2)"
   ]
  }
 ],
 "metadata": {
  "kernelspec": {
   "display_name": "Python 3 (ipykernel)",
   "language": "python",
   "name": "python3"
  },
  "language_info": {
   "codemirror_mode": {
    "name": "ipython",
    "version": 3
   },
   "file_extension": ".py",
   "mimetype": "text/x-python",
   "name": "python",
   "nbconvert_exporter": "python",
   "pygments_lexer": "ipython3",
   "version": "3.8.10"
  }
 },
 "nbformat": 4,
 "nbformat_minor": 5
}
