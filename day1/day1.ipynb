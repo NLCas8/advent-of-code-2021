{
 "cells": [
  {
   "cell_type": "markdown",
   "id": "7f05c5fc",
   "metadata": {},
   "source": [
    "# Part 1"
   ]
  },
  {
   "cell_type": "code",
   "execution_count": 38,
   "id": "1bd51529",
   "metadata": {},
   "outputs": [],
   "source": [
    "with open(f\"day1/input.txt\", 'r') as file:\n",
    "    input_list = file.read().split('\\n')\n",
    "input_list = [int(text) for text in input_list]"
   ]
  },
  {
   "cell_type": "code",
   "execution_count": 59,
   "id": "6bb74024",
   "metadata": {},
   "outputs": [
    {
     "name": "stdout",
     "output_type": "stream",
     "text": [
      "1292\n"
     ]
    }
   ],
   "source": [
    "def num_increased(my_list):\n",
    "    results = 0\n",
    "    \n",
    "    for i in range(len(my_list)-1):\n",
    "        pair = my_list[i:i+2]\n",
    "\n",
    "        if pair[1] > pair[0]:\n",
    "            results += 1\n",
    "    \n",
    "    return results\n",
    "\n",
    "print(num_increased(input_list))"
   ]
  },
  {
   "cell_type": "markdown",
   "id": "f5a48938",
   "metadata": {},
   "source": [
    "# Part 2"
   ]
  },
  {
   "cell_type": "code",
   "execution_count": 61,
   "id": "fde9c5c1",
   "metadata": {},
   "outputs": [
    {
     "name": "stdout",
     "output_type": "stream",
     "text": [
      "1262\n"
     ]
    }
   ],
   "source": [
    "input2 = []\n",
    "\n",
    "for i in range(len(input_list)-2):\n",
    "    trio = input_list[i:i+3]\n",
    "    total = sum(trio)\n",
    "    input2.append(total)\n",
    "\n",
    "print(num_increased(input2))"
   ]
  },
  {
   "cell_type": "code",
   "execution_count": null,
   "id": "7286331c",
   "metadata": {},
   "outputs": [],
   "source": []
  },
  {
   "cell_type": "code",
   "execution_count": null,
   "id": "f9bd36ef",
   "metadata": {},
   "outputs": [],
   "source": []
  }
 ],
 "metadata": {
  "kernelspec": {
   "display_name": "Python 3 (ipykernel)",
   "language": "python",
   "name": "python3"
  },
  "language_info": {
   "codemirror_mode": {
    "name": "ipython",
    "version": 3
   },
   "file_extension": ".py",
   "mimetype": "text/x-python",
   "name": "python",
   "nbconvert_exporter": "python",
   "pygments_lexer": "ipython3",
   "version": "3.8.10"
  }
 },
 "nbformat": 4,
 "nbformat_minor": 5
}
