{
 "cells": [
  {
   "cell_type": "code",
   "execution_count": 13,
   "id": "754cc8bc",
   "metadata": {},
   "outputs": [],
   "source": [
    "with open(f\"input.txt\", 'r') as file:\n",
    "    input_list = file.read().split('\\n')"
   ]
  },
  {
   "cell_type": "markdown",
   "id": "a40ee648",
   "metadata": {},
   "source": [
    "# part 1"
   ]
  },
  {
   "cell_type": "code",
   "execution_count": 14,
   "id": "438bbdb3",
   "metadata": {},
   "outputs": [],
   "source": [
    "def move_submarine(coordinates : [int, int], command: str, amount: int):\n",
    "    \n",
    "    if command == 'forward':\n",
    "        coordinates[0] += amount\n",
    "    elif command == 'up':\n",
    "        coordinates[1] -= amount\n",
    "    elif command == 'down':\n",
    "        coordinates[1] += amount\n",
    "        \n",
    "    return coordinates"
   ]
  },
  {
   "cell_type": "code",
   "execution_count": 16,
   "id": "739cd8d9",
   "metadata": {},
   "outputs": [
    {
     "name": "stdout",
     "output_type": "stream",
     "text": [
      "[2007, 747]\n"
     ]
    }
   ],
   "source": [
    "coordinates = [0, 0]\n",
    "for command_amount in input_list:\n",
    "    command, amount = command_amount.split(' ')\n",
    "    coordinates = move_submarine(coordinates, command, int(amount))"
   ]
  },
  {
   "cell_type": "code",
   "execution_count": 17,
   "id": "16c739c3",
   "metadata": {},
   "outputs": [
    {
     "data": {
      "text/plain": [
       "1499229"
      ]
     },
     "execution_count": 17,
     "metadata": {},
     "output_type": "execute_result"
    }
   ],
   "source": [
    "coordinates[0] * coordinates[1]"
   ]
  },
  {
   "cell_type": "markdown",
   "id": "ce61e49a",
   "metadata": {},
   "source": [
    "# part 2"
   ]
  },
  {
   "cell_type": "code",
   "execution_count": 24,
   "id": "63b08617",
   "metadata": {},
   "outputs": [],
   "source": [
    "def move_submarine(coordinates : [int, int, int], command: str, amount: int):\n",
    "    \n",
    "    if command == 'forward':\n",
    "        coordinates[0] += amount\n",
    "        coordinates[1] = coordinates[1] + (coordinates[2] * amount)\n",
    "    elif command == 'up':\n",
    "        coordinates[2] -= amount\n",
    "    elif command == 'down':\n",
    "        coordinates[2] += amount\n",
    "        \n",
    "    return coordinates"
   ]
  },
  {
   "cell_type": "code",
   "execution_count": 25,
   "id": "69c96992",
   "metadata": {},
   "outputs": [
    {
     "data": {
      "text/plain": [
       "[2007, 668080, 747]"
      ]
     },
     "execution_count": 25,
     "metadata": {},
     "output_type": "execute_result"
    }
   ],
   "source": [
    "coordinates = [0, 0, 0]\n",
    "for command_amount in input_list:\n",
    "    command, amount = command_amount.split(' ')\n",
    "    coordinates = move_submarine(coordinates, command, int(amount))\n",
    "coordinates"
   ]
  },
  {
   "cell_type": "code",
   "execution_count": 26,
   "id": "75373123",
   "metadata": {},
   "outputs": [
    {
     "data": {
      "text/plain": [
       "1340836560"
      ]
     },
     "execution_count": 26,
     "metadata": {},
     "output_type": "execute_result"
    }
   ],
   "source": [
    "coordinates[0] * coordinates[1]"
   ]
  }
 ],
 "metadata": {
  "kernelspec": {
   "display_name": "Python 3 (ipykernel)",
   "language": "python",
   "name": "python3"
  },
  "language_info": {
   "codemirror_mode": {
    "name": "ipython",
    "version": 3
   },
   "file_extension": ".py",
   "mimetype": "text/x-python",
   "name": "python",
   "nbconvert_exporter": "python",
   "pygments_lexer": "ipython3",
   "version": "3.8.10"
  }
 },
 "nbformat": 4,
 "nbformat_minor": 5
}
