{
 "cells": [
  {
   "cell_type": "code",
   "execution_count": 212,
   "id": "bdf8b57c",
   "metadata": {},
   "outputs": [],
   "source": [
    "import numpy as np\n",
    "from datetime import datetime"
   ]
  },
  {
   "cell_type": "code",
   "execution_count": 213,
   "id": "c7072070",
   "metadata": {},
   "outputs": [],
   "source": [
    "with open(f\"day6/input.txt\", 'r') as file:\n",
    "    input_list = file.read().split(',')"
   ]
  },
  {
   "cell_type": "markdown",
   "id": "8a535f1d",
   "metadata": {},
   "source": [
    "# Part 1 & 2"
   ]
  },
  {
   "cell_type": "code",
   "execution_count": 214,
   "id": "8118b6cd",
   "metadata": {},
   "outputs": [],
   "source": [
    "fish = np.array([int(x) for x in input_list])"
   ]
  },
  {
   "cell_type": "code",
   "execution_count": 215,
   "id": "a23468de",
   "metadata": {},
   "outputs": [],
   "source": [
    "unique, counts = np.unique(fish, return_counts=True)\n",
    "\n",
    "fish_count_orig = dict(zip(unique, counts))\n",
    "\n",
    "# initialize all with 0 or with it's count as given in the input\n",
    "for i in range(9):\n",
    "    try:\n",
    "        init = fish_count_orig[i]\n",
    "    except KeyError:\n",
    "        init = 0\n",
    "    fish_count_orig[i] = init"
   ]
  },
  {
   "cell_type": "code",
   "execution_count": 216,
   "id": "e34428f4",
   "metadata": {},
   "outputs": [
    {
     "data": {
      "text/plain": [
       "{1: 197, 2: 28, 3: 26, 4: 30, 5: 19, 0: 0, 6: 0, 7: 0, 8: 0}"
      ]
     },
     "execution_count": 216,
     "metadata": {},
     "output_type": "execute_result"
    }
   ],
   "source": [
    "fish_count_orig"
   ]
  },
  {
   "cell_type": "code",
   "execution_count": 217,
   "id": "0edfb80d",
   "metadata": {},
   "outputs": [],
   "source": [
    "# counts the number of fish after 1 day\n",
    "# needs dict(internal_timer: number of fish)\n",
    "\n",
    "def next_day(fish_count: dict) -> dict:\n",
    "    fish_count_old = fish_count.copy()\n",
    "    \n",
    "    for internal_timer in range(8, -1, -1):\n",
    "\n",
    "        # add newborns and reset internal timer of parents\n",
    "        if internal_timer == 0:\n",
    "            fish_count[8] = fish_count_old[0]\n",
    "            fish_count[6] = fish_count_old[7] + fish_count_old[0]\n",
    "            fish_count[0] = fish_count_old[1]\n",
    "\n",
    "        elif internal_timer != 8:\n",
    "            idx = internal_timer + 1\n",
    "            fish_count[internal_timer] = fish_count_old[idx]\n",
    "    \n",
    "    return(fish_count)"
   ]
  },
  {
   "cell_type": "code",
   "execution_count": 237,
   "id": "6449cb7a",
   "metadata": {},
   "outputs": [
    {
     "name": "stdout",
     "output_type": "stream",
     "text": [
      "0:00:00.000499\n"
     ]
    }
   ],
   "source": [
    "num_days = 256\n",
    "fish_count_new = fish_count_orig.copy()\n",
    "\n",
    "start = datetime.now()\n",
    "\n",
    "for i in range(num_days):\n",
    "    fish_count_new = next_day(fish_count_new)\n",
    "\n",
    "print(datetime.now() - start)"
   ]
  },
  {
   "cell_type": "code",
   "execution_count": 219,
   "id": "883331b9",
   "metadata": {},
   "outputs": [
    {
     "data": {
      "text/plain": [
       "1740449478328"
      ]
     },
     "execution_count": 219,
     "metadata": {},
     "output_type": "execute_result"
    }
   ],
   "source": [
    "total_fish = sum(fish_count_new.values())\n",
    "total_fish"
   ]
  }
 ],
 "metadata": {
  "kernelspec": {
   "display_name": "Python 3 (ipykernel)",
   "language": "python",
   "name": "python3"
  },
  "language_info": {
   "codemirror_mode": {
    "name": "ipython",
    "version": 3
   },
   "file_extension": ".py",
   "mimetype": "text/x-python",
   "name": "python",
   "nbconvert_exporter": "python",
   "pygments_lexer": "ipython3",
   "version": "3.8.10"
  }
 },
 "nbformat": 4,
 "nbformat_minor": 5
}
