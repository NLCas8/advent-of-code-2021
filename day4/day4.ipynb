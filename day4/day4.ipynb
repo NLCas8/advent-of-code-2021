{
 "cells": [
  {
   "cell_type": "code",
   "execution_count": 228,
   "metadata": {},
   "outputs": [],
   "source": [
    "with open(f\"input.txt\", 'r') as file:\n",
    "    input_list = file.read().split('\\n')"
   ]
  },
  {
   "cell_type": "markdown",
   "metadata": {},
   "source": [
    "# Part 1"
   ]
  },
  {
   "cell_type": "code",
   "execution_count": 229,
   "metadata": {},
   "outputs": [],
   "source": [
    "class Board:\n",
    "    \n",
    "    def __init__(self, rows: list):\n",
    "        self.rows = rows\n",
    "        self.columns = []\n",
    "        \n",
    "        for column in zip(*rows):\n",
    "            self.columns.append(list(column))\n",
    "        \n",
    "        self.colunns = [*self.columns]\n",
    "\n",
    "    def check_win(self, numbers: list):\n",
    "        \n",
    "        for line in [*self.rows, *self.columns]:\n",
    "            marked = [number for number in line if number in numbers]\n",
    "\n",
    "            if len(marked) == 5:\n",
    "                return True\n",
    "        return False\n",
    "    \n",
    "    def get_unmarked(self, numbers: list):\n",
    "        unmarked = []\n",
    "        for line in self.rows:\n",
    "            for number in line:\n",
    "                if number not in numbers:\n",
    "                    unmarked.append(number)\n",
    "                    \n",
    "        return unmarked\n",
    "    \n",
    "    def get_score(self, numbers: list):\n",
    "        unmarked_numbers = self.get_unmarked(numbers)\n",
    "        unmarked_numbers = [int(number) for number in unmarked_numbers]\n",
    "        score = sum(unmarked_numbers) * int(drawn_numbers[-1])\n",
    "        \n",
    "        return score"
   ]
  },
  {
   "cell_type": "code",
   "execution_count": 230,
   "metadata": {},
   "outputs": [],
   "source": [
    "numbers = input_list[0].split(',')\n",
    "boards_raw = input_list[2:]\n",
    "boards = []\n",
    "\n",
    "# create board objects\n",
    "for i in range(0, len(boards_raw), 6):\n",
    "    rows = boards_raw[i:i+6]\n",
    "    \n",
    "    rows = [row.split(' ') for row in rows]\n",
    "    my_rows = []\n",
    "    \n",
    "    for row in rows:\n",
    "        my_rows.append([number for number in row if number])\n",
    "        \n",
    "    my_rows = [row for row in my_rows if len(row) == 5]\n",
    "    boards.append(Board(my_rows))\n",
    "    \n",
    "    assert len(boards[-1].rows) == 5\n",
    "    assert len(boards[-1].columns) == 5"
   ]
  },
  {
   "cell_type": "code",
   "execution_count": 232,
   "metadata": {},
   "outputs": [
    {
     "name": "stdout",
     "output_type": "stream",
     "text": [
      "6592\n"
     ]
    }
   ],
   "source": [
    "try:\n",
    "    for i in range(1, len(numbers)):\n",
    "        drawn_numbers = numbers[:i]\n",
    "\n",
    "        for idx, board in enumerate(boards):\n",
    "\n",
    "            if board.check_win(drawn_numbers):\n",
    "                score = board.get_score(drawn_numbers)\n",
    "                print(score)\n",
    "                \n",
    "                raise StopIteration\n",
    "except StopIteration:\n",
    "    pass"
   ]
  },
  {
   "cell_type": "markdown",
   "metadata": {},
   "source": [
    "# Part 2"
   ]
  },
  {
   "cell_type": "code",
   "execution_count": 233,
   "metadata": {},
   "outputs": [
    {
     "name": "stdout",
     "output_type": "stream",
     "text": [
      "31755\n"
     ]
    }
   ],
   "source": [
    "winners = []\n",
    "\n",
    "try:\n",
    "    for i in range(1, len(numbers)):\n",
    "        if len(winners) == 100:\n",
    "            raise StopIteration\n",
    "            \n",
    "        drawn_numbers = numbers[:i]\n",
    "\n",
    "        for idx, board in enumerate(boards):\n",
    "\n",
    "            if board.check_win(drawn_numbers):\n",
    "                if idx not in winners:\n",
    "                    winners.append(idx)\n",
    "                \n",
    "except StopIteration:\n",
    "    pass\n",
    "\n",
    "# the last winning board, aka loser\n",
    "board = boards[list(winners)[-1]]\n",
    "\n",
    "score = board.get_score(drawn_numbers)\n",
    "print(score)"
   ]
  }
 ],
 "metadata": {
  "kernelspec": {
   "display_name": "Python 3",
   "language": "python",
   "name": "python3"
  },
  "language_info": {
   "codemirror_mode": {
    "name": "ipython",
    "version": 3
   },
   "file_extension": ".py",
   "mimetype": "text/x-python",
   "name": "python",
   "nbconvert_exporter": "python",
   "pygments_lexer": "ipython3",
   "version": "3.7.3"
  }
 },
 "nbformat": 4,
 "nbformat_minor": 2
}
